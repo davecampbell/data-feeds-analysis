{
 "cells": [
  {
   "cell_type": "code",
   "execution_count": 1,
   "metadata": {},
   "outputs": [],
   "source": [
    "import pandas as pd\n",
    "import numpy as np\n",
    "import matplotlib.pyplot as plt\n",
    "import matplotlib.figure as fig\n",
    "from matplotlib.ticker import StrMethodFormatter\n",
    "import seaborn as sns"
   ]
  },
  {
   "cell_type": "code",
   "execution_count": 2,
   "metadata": {},
   "outputs": [],
   "source": [
    "df = pd.read_csv('data/intervals.csv', nrows=15000)"
   ]
  },
  {
   "cell_type": "code",
   "execution_count": 3,
   "metadata": {},
   "outputs": [
    {
     "data": {
      "text/html": [
       "<div>\n",
       "<style scoped>\n",
       "    .dataframe tbody tr th:only-of-type {\n",
       "        vertical-align: middle;\n",
       "    }\n",
       "\n",
       "    .dataframe tbody tr th {\n",
       "        vertical-align: top;\n",
       "    }\n",
       "\n",
       "    .dataframe thead th {\n",
       "        text-align: right;\n",
       "    }\n",
       "</style>\n",
       "<table border=\"1\" class=\"dataframe\">\n",
       "  <thead>\n",
       "    <tr style=\"text-align: right;\">\n",
       "      <th></th>\n",
       "      <th>Unnamed: 0</th>\n",
       "      <th>interval</th>\n",
       "      <th>origindex</th>\n",
       "      <th>timestamp</th>\n",
       "      <th>uniquename</th>\n",
       "    </tr>\n",
       "  </thead>\n",
       "  <tbody>\n",
       "    <tr>\n",
       "      <th>14995</th>\n",
       "      <td>14995</td>\n",
       "      <td>891.0</td>\n",
       "      <td>2235705.0</td>\n",
       "      <td>2018-10-23 16:28:37</td>\n",
       "      <td>1000-11</td>\n",
       "    </tr>\n",
       "    <tr>\n",
       "      <th>14996</th>\n",
       "      <td>14996</td>\n",
       "      <td>878.0</td>\n",
       "      <td>2236535.0</td>\n",
       "      <td>2018-10-23 16:43:15</td>\n",
       "      <td>1000-11</td>\n",
       "    </tr>\n",
       "    <tr>\n",
       "      <th>14997</th>\n",
       "      <td>14997</td>\n",
       "      <td>883.0</td>\n",
       "      <td>2237285.0</td>\n",
       "      <td>2018-10-23 16:57:58</td>\n",
       "      <td>1000-11</td>\n",
       "    </tr>\n",
       "    <tr>\n",
       "      <th>14998</th>\n",
       "      <td>14998</td>\n",
       "      <td>881.0</td>\n",
       "      <td>2238096.0</td>\n",
       "      <td>2018-10-23 17:12:39</td>\n",
       "      <td>1000-11</td>\n",
       "    </tr>\n",
       "    <tr>\n",
       "      <th>14999</th>\n",
       "      <td>14999</td>\n",
       "      <td>883.0</td>\n",
       "      <td>2238863.0</td>\n",
       "      <td>2018-10-23 17:27:22</td>\n",
       "      <td>1000-11</td>\n",
       "    </tr>\n",
       "  </tbody>\n",
       "</table>\n",
       "</div>"
      ],
      "text/plain": [
       "       Unnamed: 0  interval  origindex            timestamp uniquename\n",
       "14995       14995     891.0  2235705.0  2018-10-23 16:28:37    1000-11\n",
       "14996       14996     878.0  2236535.0  2018-10-23 16:43:15    1000-11\n",
       "14997       14997     883.0  2237285.0  2018-10-23 16:57:58    1000-11\n",
       "14998       14998     881.0  2238096.0  2018-10-23 17:12:39    1000-11\n",
       "14999       14999     883.0  2238863.0  2018-10-23 17:27:22    1000-11"
      ]
     },
     "execution_count": 3,
     "metadata": {},
     "output_type": "execute_result"
    }
   ],
   "source": [
    "df.tail()"
   ]
  },
  {
   "cell_type": "code",
   "execution_count": 4,
   "metadata": {},
   "outputs": [
    {
     "data": {
      "text/html": [
       "<div>\n",
       "<style scoped>\n",
       "    .dataframe tbody tr th:only-of-type {\n",
       "        vertical-align: middle;\n",
       "    }\n",
       "\n",
       "    .dataframe tbody tr th {\n",
       "        vertical-align: top;\n",
       "    }\n",
       "\n",
       "    .dataframe thead th {\n",
       "        text-align: right;\n",
       "    }\n",
       "</style>\n",
       "<table border=\"1\" class=\"dataframe\">\n",
       "  <thead>\n",
       "    <tr style=\"text-align: right;\">\n",
       "      <th></th>\n",
       "      <th>Unnamed: 0</th>\n",
       "      <th>interval</th>\n",
       "      <th>origindex</th>\n",
       "      <th>timestamp</th>\n",
       "      <th>uniquename</th>\n",
       "    </tr>\n",
       "  </thead>\n",
       "  <tbody>\n",
       "    <tr>\n",
       "      <th>0</th>\n",
       "      <td>0</td>\n",
       "      <td>NaN</td>\n",
       "      <td>NaN</td>\n",
       "      <td>NaN</td>\n",
       "      <td>NaN</td>\n",
       "    </tr>\n",
       "    <tr>\n",
       "      <th>1</th>\n",
       "      <td>1</td>\n",
       "      <td>547.0</td>\n",
       "      <td>1419183.0</td>\n",
       "      <td>2018-10-08 13:00:07</td>\n",
       "      <td>1000-0</td>\n",
       "    </tr>\n",
       "    <tr>\n",
       "      <th>2</th>\n",
       "      <td>2</td>\n",
       "      <td>841.0</td>\n",
       "      <td>1419804.0</td>\n",
       "      <td>2018-10-08 13:14:08</td>\n",
       "      <td>1000-0</td>\n",
       "    </tr>\n",
       "    <tr>\n",
       "      <th>3</th>\n",
       "      <td>3</td>\n",
       "      <td>901.0</td>\n",
       "      <td>1420489.0</td>\n",
       "      <td>2018-10-08 13:29:09</td>\n",
       "      <td>1000-0</td>\n",
       "    </tr>\n",
       "    <tr>\n",
       "      <th>4</th>\n",
       "      <td>4</td>\n",
       "      <td>883.0</td>\n",
       "      <td>1421166.0</td>\n",
       "      <td>2018-10-08 13:43:52</td>\n",
       "      <td>1000-0</td>\n",
       "    </tr>\n",
       "  </tbody>\n",
       "</table>\n",
       "</div>"
      ],
      "text/plain": [
       "   Unnamed: 0  interval  origindex            timestamp uniquename\n",
       "0           0       NaN        NaN                  NaN        NaN\n",
       "1           1     547.0  1419183.0  2018-10-08 13:00:07     1000-0\n",
       "2           2     841.0  1419804.0  2018-10-08 13:14:08     1000-0\n",
       "3           3     901.0  1420489.0  2018-10-08 13:29:09     1000-0\n",
       "4           4     883.0  1421166.0  2018-10-08 13:43:52     1000-0"
      ]
     },
     "execution_count": 4,
     "metadata": {},
     "output_type": "execute_result"
    }
   ],
   "source": [
    "df.head()"
   ]
  },
  {
   "cell_type": "code",
   "execution_count": 13,
   "metadata": {},
   "outputs": [
    {
     "data": {
      "text/html": [
       "<div>\n",
       "<style scoped>\n",
       "    .dataframe tbody tr th:only-of-type {\n",
       "        vertical-align: middle;\n",
       "    }\n",
       "\n",
       "    .dataframe tbody tr th {\n",
       "        vertical-align: top;\n",
       "    }\n",
       "\n",
       "    .dataframe thead th {\n",
       "        text-align: right;\n",
       "    }\n",
       "</style>\n",
       "<table border=\"1\" class=\"dataframe\">\n",
       "  <thead>\n",
       "    <tr style=\"text-align: right;\">\n",
       "      <th></th>\n",
       "      <th>Unnamed: 0</th>\n",
       "      <th>interval</th>\n",
       "      <th>origindex</th>\n",
       "    </tr>\n",
       "  </thead>\n",
       "  <tbody>\n",
       "    <tr>\n",
       "      <th>count</th>\n",
       "      <td>15000.000000</td>\n",
       "      <td>14995.000000</td>\n",
       "      <td>1.499500e+04</td>\n",
       "    </tr>\n",
       "    <tr>\n",
       "      <th>mean</th>\n",
       "      <td>7499.500000</td>\n",
       "      <td>1819.623274</td>\n",
       "      <td>2.350797e+06</td>\n",
       "    </tr>\n",
       "    <tr>\n",
       "      <th>std</th>\n",
       "      <td>4330.271354</td>\n",
       "      <td>2648.490082</td>\n",
       "      <td>1.391984e+06</td>\n",
       "    </tr>\n",
       "    <tr>\n",
       "      <th>min</th>\n",
       "      <td>0.000000</td>\n",
       "      <td>2.000000</td>\n",
       "      <td>4.060000e+02</td>\n",
       "    </tr>\n",
       "    <tr>\n",
       "      <th>25%</th>\n",
       "      <td>3749.750000</td>\n",
       "      <td>900.000000</td>\n",
       "      <td>1.181645e+06</td>\n",
       "    </tr>\n",
       "    <tr>\n",
       "      <th>50%</th>\n",
       "      <td>7499.500000</td>\n",
       "      <td>1148.000000</td>\n",
       "      <td>2.248184e+06</td>\n",
       "    </tr>\n",
       "    <tr>\n",
       "      <th>75%</th>\n",
       "      <td>11249.250000</td>\n",
       "      <td>1455.500000</td>\n",
       "      <td>3.562124e+06</td>\n",
       "    </tr>\n",
       "    <tr>\n",
       "      <th>max</th>\n",
       "      <td>14999.000000</td>\n",
       "      <td>50933.000000</td>\n",
       "      <td>4.873886e+06</td>\n",
       "    </tr>\n",
       "  </tbody>\n",
       "</table>\n",
       "</div>"
      ],
      "text/plain": [
       "         Unnamed: 0      interval     origindex\n",
       "count  15000.000000  14995.000000  1.499500e+04\n",
       "mean    7499.500000   1819.623274  2.350797e+06\n",
       "std     4330.271354   2648.490082  1.391984e+06\n",
       "min        0.000000      2.000000  4.060000e+02\n",
       "25%     3749.750000    900.000000  1.181645e+06\n",
       "50%     7499.500000   1148.000000  2.248184e+06\n",
       "75%    11249.250000   1455.500000  3.562124e+06\n",
       "max    14999.000000  50933.000000  4.873886e+06"
      ]
     },
     "execution_count": 13,
     "metadata": {},
     "output_type": "execute_result"
    }
   ],
   "source": [
    "df.describe()"
   ]
  },
  {
   "cell_type": "code",
   "execution_count": 5,
   "metadata": {},
   "outputs": [
    {
     "data": {
      "text/plain": [
       "array([[<matplotlib.axes._subplots.AxesSubplot object at 0x1a1b5b3518>,\n",
       "        <matplotlib.axes._subplots.AxesSubplot object at 0x1a1a894160>],\n",
       "       [<matplotlib.axes._subplots.AxesSubplot object at 0x1a1af0b6d8>,\n",
       "        <matplotlib.axes._subplots.AxesSubplot object at 0x1a1af32c50>],\n",
       "       [<matplotlib.axes._subplots.AxesSubplot object at 0x1a1af65208>,\n",
       "        <matplotlib.axes._subplots.AxesSubplot object at 0x1a1b2ba780>]],\n",
       "      dtype=object)"
      ]
     },
     "execution_count": 5,
     "metadata": {},
     "output_type": "execute_result"
    },
    {
     "data": {
      "image/png": "[encoded data removed]",
      "text/plain": [
       "<Figure size 864x576 with 6 Axes>"
      ]
     },
     "metadata": {
      "needs_background": "light"
     },
     "output_type": "display_data"
    }
   ],
   "source": [
    "# using matplotlib directly from df.hist()\n",
    "df.hist(column='interval', by='uniquename', bins=50, grid=False, layout=(3,2), figsize=(12,8), color='#86bf91', zorder=2, rwidth=0.9)\n"
   ]
  },
  {
   "cell_type": "code",
   "execution_count": 18,
   "metadata": {},
   "outputs": [
    {
     "data": {
      "text/html": [
       "<div>\n",
       "<style scoped>\n",
       "    .dataframe tbody tr th:only-of-type {\n",
       "        vertical-align: middle;\n",
       "    }\n",
       "\n",
       "    .dataframe tbody tr th {\n",
       "        vertical-align: top;\n",
       "    }\n",
       "\n",
       "    .dataframe thead th {\n",
       "        text-align: right;\n",
       "    }\n",
       "</style>\n",
       "<table border=\"1\" class=\"dataframe\">\n",
       "  <thead>\n",
       "    <tr style=\"text-align: right;\">\n",
       "      <th></th>\n",
       "      <th>count</th>\n",
       "      <th>mean</th>\n",
       "      <th>std</th>\n",
       "      <th>min</th>\n",
       "      <th>25%</th>\n",
       "      <th>50%</th>\n",
       "      <th>75%</th>\n",
       "      <th>max</th>\n",
       "    </tr>\n",
       "    <tr>\n",
       "      <th>uniquename</th>\n",
       "      <th></th>\n",
       "      <th></th>\n",
       "      <th></th>\n",
       "      <th></th>\n",
       "      <th></th>\n",
       "      <th></th>\n",
       "      <th></th>\n",
       "      <th></th>\n",
       "    </tr>\n",
       "  </thead>\n",
       "  <tbody>\n",
       "    <tr>\n",
       "      <th>1000-0</th>\n",
       "      <td>267.0</td>\n",
       "      <td>1016.363296</td>\n",
       "      <td>694.352475</td>\n",
       "      <td>441.0</td>\n",
       "      <td>893.0</td>\n",
       "      <td>901.0</td>\n",
       "      <td>907.0</td>\n",
       "      <td>9909.0</td>\n",
       "    </tr>\n",
       "    <tr>\n",
       "      <th>1000-1</th>\n",
       "      <td>6575.0</td>\n",
       "      <td>1190.463878</td>\n",
       "      <td>988.947321</td>\n",
       "      <td>70.0</td>\n",
       "      <td>896.0</td>\n",
       "      <td>902.0</td>\n",
       "      <td>910.0</td>\n",
       "      <td>15285.0</td>\n",
       "    </tr>\n",
       "    <tr>\n",
       "      <th>1000-10</th>\n",
       "      <td>1904.0</td>\n",
       "      <td>4113.344013</td>\n",
       "      <td>4594.299328</td>\n",
       "      <td>54.0</td>\n",
       "      <td>1012.0</td>\n",
       "      <td>2694.0</td>\n",
       "      <td>5391.0</td>\n",
       "      <td>37801.0</td>\n",
       "    </tr>\n",
       "    <tr>\n",
       "      <th>1000-101</th>\n",
       "      <td>5293.0</td>\n",
       "      <td>1480.439070</td>\n",
       "      <td>1030.144822</td>\n",
       "      <td>2.0</td>\n",
       "      <td>1174.0</td>\n",
       "      <td>1207.0</td>\n",
       "      <td>1258.0</td>\n",
       "      <td>18386.0</td>\n",
       "    </tr>\n",
       "    <tr>\n",
       "      <th>1000-11</th>\n",
       "      <td>956.0</td>\n",
       "      <td>3680.764644</td>\n",
       "      <td>6150.089094</td>\n",
       "      <td>3.0</td>\n",
       "      <td>874.0</td>\n",
       "      <td>953.5</td>\n",
       "      <td>3506.5</td>\n",
       "      <td>50933.0</td>\n",
       "    </tr>\n",
       "  </tbody>\n",
       "</table>\n",
       "</div>"
      ],
      "text/plain": [
       "             count         mean          std    min     25%     50%     75%  \\\n",
       "uniquename                                                                    \n",
       "1000-0       267.0  1016.363296   694.352475  441.0   893.0   901.0   907.0   \n",
       "1000-1      6575.0  1190.463878   988.947321   70.0   896.0   902.0   910.0   \n",
       "1000-10     1904.0  4113.344013  4594.299328   54.0  1012.0  2694.0  5391.0   \n",
       "1000-101    5293.0  1480.439070  1030.144822    2.0  1174.0  1207.0  1258.0   \n",
       "1000-11      956.0  3680.764644  6150.089094    3.0   874.0   953.5  3506.5   \n",
       "\n",
       "                max  \n",
       "uniquename           \n",
       "1000-0       9909.0  \n",
       "1000-1      15285.0  \n",
       "1000-10     37801.0  \n",
       "1000-101    18386.0  \n",
       "1000-11     50933.0  "
      ]
     },
     "execution_count": 18,
     "metadata": {},
     "output_type": "execute_result"
    }
   ],
   "source": [
    "# do some aggregations on the groups using just one of the columns\n",
    "df.groupby('uniquename')['interval'].describe()"
   ]
  },
  {
   "cell_type": "code",
   "execution_count": 6,
   "metadata": {},
   "outputs": [
    {
     "data": {
      "text/plain": [
       "5"
      ]
     },
     "execution_count": 6,
     "metadata": {},
     "output_type": "execute_result"
    }
   ],
   "source": [
    "# use group-by and then call seaborn to get the histogram on each group\n",
    "gps = df.groupby(by='uniquename')['interval']\n",
    "len(gps)"
   ]
  },
  {
   "cell_type": "code",
   "execution_count": 22,
   "metadata": {},
   "outputs": [
    {
     "name": "stdout",
     "output_type": "stream",
     "text": [
      "1000-0 267 mean      1016.363296\n",
      "var     482125.360001\n",
      "std        694.352475\n",
      "Name: interval, dtype: float64\n",
      "1000-1 6575 mean      1190.463878\n",
      "var     978016.803342\n",
      "std        988.947321\n",
      "Name: interval, dtype: float64\n",
      "1000-10 1904 mean    4.113344e+03\n",
      "var     2.110759e+07\n",
      "std     4.594299e+03\n",
      "Name: interval, dtype: float64\n",
      "1000-101 5293 mean    1.480439e+03\n",
      "var     1.061198e+06\n",
      "std     1.030145e+03\n",
      "Name: interval, dtype: float64\n",
      "1000-11 956 mean    3.680765e+03\n",
      "var     3.782360e+07\n",
      "std     6.150089e+03\n",
      "Name: interval, dtype: float64\n"
     ]
    }
   ],
   "source": [
    "for (name, group) in gps:\n",
    "    print(name, len(group), group.agg({'mean': np.mean, 'var': np.var, 'std': np.std}))\n",
    "    group.describe()\n",
    "    # input()\n",
    "    # sns.distplot(a=group, label=name, kde=False, rug=True)"
   ]
  },
  {
   "cell_type": "code",
   "execution_count": 23,
   "metadata": {},
   "outputs": [],
   "source": [
    "a = gps.get_group(\"1000-0\")"
   ]
  },
  {
   "cell_type": "code",
   "execution_count": 25,
   "metadata": {},
   "outputs": [
    {
     "data": {
      "text/plain": [
       "count     267.000000\n",
       "mean     1016.363296\n",
       "std       694.352475\n",
       "min       441.000000\n",
       "25%       893.000000\n",
       "50%       901.000000\n",
       "75%       907.000000\n",
       "max      9909.000000\n",
       "Name: interval, dtype: float64"
      ]
     },
     "execution_count": 25,
     "metadata": {},
     "output_type": "execute_result"
    }
   ],
   "source": [
    "a.describe()"
   ]
  },
  {
   "cell_type": "code",
   "execution_count": 24,
   "metadata": {},
   "outputs": [
    {
     "data": {
      "text/plain": [
       "<matplotlib.axes._subplots.AxesSubplot at 0x1a1d96b908>"
      ]
     },
     "execution_count": 24,
     "metadata": {},
     "output_type": "execute_result"
    },
    {
     "data": {
      "image/png": "[encoded data removed]",
      "text/plain": [
       "<Figure size 432x288 with 1 Axes>"
      ]
     },
     "metadata": {
      "needs_background": "light"
     },
     "output_type": "display_data"
    }
   ],
   "source": [
    "sns.distplot(a)"
   ]
  },
  {
   "cell_type": "code",
   "execution_count": null,
   "metadata": {},
   "outputs": [],
   "source": []
  }
 ],
 "metadata": {
  "kernelspec": {
   "display_name": "Python 3",
   "language": "python",
   "name": "python3"
  },
  "language_info": {
   "codemirror_mode": {
    "name": "ipython",
    "version": 3
   },
   "file_extension": ".py",
   "mimetype": "text/x-python",
   "name": "python",
   "nbconvert_exporter": "python",
   "pygments_lexer": "ipython3",
   "version": "3.7.1"
  }
 },
 "nbformat": 4,
 "nbformat_minor": 2
}
