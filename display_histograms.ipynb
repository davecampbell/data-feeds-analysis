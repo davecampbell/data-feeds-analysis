{
 "cells": [
  {
   "cell_type": "code",
   "execution_count": 24,
   "metadata": {},
   "outputs": [],
   "source": [
    "import pandas as pd\n",
    "import numpy as np\n",
    "import matplotlib.pyplot as plt\n",
    "import matplotlib.figure as fig\n",
    "from matplotlib.ticker import StrMethodFormatter\n",
    "import seaborn as sns"
   ]
  },
  {
   "cell_type": "code",
   "execution_count": 25,
   "metadata": {},
   "outputs": [],
   "source": [
    "df = pd.read_csv('data/intervals.csv', nrows=15000)"
   ]
  },
  {
   "cell_type": "code",
   "execution_count": 26,
   "metadata": {},
   "outputs": [
    {
     "data": {
      "text/html": [
       "<div>\n",
       "<style scoped>\n",
       "    .dataframe tbody tr th:only-of-type {\n",
       "        vertical-align: middle;\n",
       "    }\n",
       "\n",
       "    .dataframe tbody tr th {\n",
       "        vertical-align: top;\n",
       "    }\n",
       "\n",
       "    .dataframe thead th {\n",
       "        text-align: right;\n",
       "    }\n",
       "</style>\n",
       "<table border=\"1\" class=\"dataframe\">\n",
       "  <thead>\n",
       "    <tr style=\"text-align: right;\">\n",
       "      <th></th>\n",
       "      <th>Unnamed: 0</th>\n",
       "      <th>interval</th>\n",
       "      <th>origindex</th>\n",
       "      <th>timestamp</th>\n",
       "      <th>uniquename</th>\n",
       "    </tr>\n",
       "  </thead>\n",
       "  <tbody>\n",
       "    <tr>\n",
       "      <th>14995</th>\n",
       "      <td>14995</td>\n",
       "      <td>891.0</td>\n",
       "      <td>2235705.0</td>\n",
       "      <td>2018-10-23 16:28:37</td>\n",
       "      <td>1000-11</td>\n",
       "    </tr>\n",
       "    <tr>\n",
       "      <th>14996</th>\n",
       "      <td>14996</td>\n",
       "      <td>878.0</td>\n",
       "      <td>2236535.0</td>\n",
       "      <td>2018-10-23 16:43:15</td>\n",
       "      <td>1000-11</td>\n",
       "    </tr>\n",
       "    <tr>\n",
       "      <th>14997</th>\n",
       "      <td>14997</td>\n",
       "      <td>883.0</td>\n",
       "      <td>2237285.0</td>\n",
       "      <td>2018-10-23 16:57:58</td>\n",
       "      <td>1000-11</td>\n",
       "    </tr>\n",
       "    <tr>\n",
       "      <th>14998</th>\n",
       "      <td>14998</td>\n",
       "      <td>881.0</td>\n",
       "      <td>2238096.0</td>\n",
       "      <td>2018-10-23 17:12:39</td>\n",
       "      <td>1000-11</td>\n",
       "    </tr>\n",
       "    <tr>\n",
       "      <th>14999</th>\n",
       "      <td>14999</td>\n",
       "      <td>883.0</td>\n",
       "      <td>2238863.0</td>\n",
       "      <td>2018-10-23 17:27:22</td>\n",
       "      <td>1000-11</td>\n",
       "    </tr>\n",
       "  </tbody>\n",
       "</table>\n",
       "</div>"
      ],
      "text/plain": [
       "       Unnamed: 0  interval  origindex            timestamp uniquename\n",
       "14995       14995     891.0  2235705.0  2018-10-23 16:28:37    1000-11\n",
       "14996       14996     878.0  2236535.0  2018-10-23 16:43:15    1000-11\n",
       "14997       14997     883.0  2237285.0  2018-10-23 16:57:58    1000-11\n",
       "14998       14998     881.0  2238096.0  2018-10-23 17:12:39    1000-11\n",
       "14999       14999     883.0  2238863.0  2018-10-23 17:27:22    1000-11"
      ]
     },
     "execution_count": 26,
     "metadata": {},
     "output_type": "execute_result"
    }
   ],
   "source": [
    "df.tail()"
   ]
  },
  {
   "cell_type": "code",
   "execution_count": 27,
   "metadata": {},
   "outputs": [
    {
     "data": {
      "text/html": [
       "<div>\n",
       "<style scoped>\n",
       "    .dataframe tbody tr th:only-of-type {\n",
       "        vertical-align: middle;\n",
       "    }\n",
       "\n",
       "    .dataframe tbody tr th {\n",
       "        vertical-align: top;\n",
       "    }\n",
       "\n",
       "    .dataframe thead th {\n",
       "        text-align: right;\n",
       "    }\n",
       "</style>\n",
       "<table border=\"1\" class=\"dataframe\">\n",
       "  <thead>\n",
       "    <tr style=\"text-align: right;\">\n",
       "      <th></th>\n",
       "      <th>Unnamed: 0</th>\n",
       "      <th>interval</th>\n",
       "      <th>origindex</th>\n",
       "      <th>timestamp</th>\n",
       "      <th>uniquename</th>\n",
       "    </tr>\n",
       "  </thead>\n",
       "  <tbody>\n",
       "    <tr>\n",
       "      <th>0</th>\n",
       "      <td>0</td>\n",
       "      <td>NaN</td>\n",
       "      <td>NaN</td>\n",
       "      <td>NaN</td>\n",
       "      <td>NaN</td>\n",
       "    </tr>\n",
       "    <tr>\n",
       "      <th>1</th>\n",
       "      <td>1</td>\n",
       "      <td>547.0</td>\n",
       "      <td>1419183.0</td>\n",
       "      <td>2018-10-08 13:00:07</td>\n",
       "      <td>1000-0</td>\n",
       "    </tr>\n",
       "    <tr>\n",
       "      <th>2</th>\n",
       "      <td>2</td>\n",
       "      <td>841.0</td>\n",
       "      <td>1419804.0</td>\n",
       "      <td>2018-10-08 13:14:08</td>\n",
       "      <td>1000-0</td>\n",
       "    </tr>\n",
       "    <tr>\n",
       "      <th>3</th>\n",
       "      <td>3</td>\n",
       "      <td>901.0</td>\n",
       "      <td>1420489.0</td>\n",
       "      <td>2018-10-08 13:29:09</td>\n",
       "      <td>1000-0</td>\n",
       "    </tr>\n",
       "    <tr>\n",
       "      <th>4</th>\n",
       "      <td>4</td>\n",
       "      <td>883.0</td>\n",
       "      <td>1421166.0</td>\n",
       "      <td>2018-10-08 13:43:52</td>\n",
       "      <td>1000-0</td>\n",
       "    </tr>\n",
       "  </tbody>\n",
       "</table>\n",
       "</div>"
      ],
      "text/plain": [
       "   Unnamed: 0  interval  origindex            timestamp uniquename\n",
       "0           0       NaN        NaN                  NaN        NaN\n",
       "1           1     547.0  1419183.0  2018-10-08 13:00:07     1000-0\n",
       "2           2     841.0  1419804.0  2018-10-08 13:14:08     1000-0\n",
       "3           3     901.0  1420489.0  2018-10-08 13:29:09     1000-0\n",
       "4           4     883.0  1421166.0  2018-10-08 13:43:52     1000-0"
      ]
     },
     "execution_count": 27,
     "metadata": {},
     "output_type": "execute_result"
    }
   ],
   "source": [
    "df.head()"
   ]
  },
  {
   "cell_type": "code",
   "execution_count": 31,
   "metadata": {},
   "outputs": [
    {
     "data": {
      "text/plain": [
       "array([[<matplotlib.axes._subplots.AxesSubplot object at 0x1a1dfc6da0>,\n",
       "        <matplotlib.axes._subplots.AxesSubplot object at 0x1a1e021080>],\n",
       "       [<matplotlib.axes._subplots.AxesSubplot object at 0x1a1e04c3c8>,\n",
       "        <matplotlib.axes._subplots.AxesSubplot object at 0x1a1e0d9940>],\n",
       "       [<matplotlib.axes._subplots.AxesSubplot object at 0x1a1e100eb8>,\n",
       "        <matplotlib.axes._subplots.AxesSubplot object at 0x1a1e133470>]],\n",
       "      dtype=object)"
      ]
     },
     "execution_count": 31,
     "metadata": {},
     "output_type": "execute_result"
    },
    {
     "data": {
      "image/png": "[encoded data removed]",
      "text/plain": [
       "<Figure size 864x576 with 6 Axes>"
      ]
     },
     "metadata": {
      "needs_background": "light"
     },
     "output_type": "display_data"
    }
   ],
   "source": [
    "# using matplotlib directly from df.hist()\n",
    "df.hist(column='interval', by='uniquename', bins=50, grid=False, layout=(3,2), figsize=(12,8), color='#86bf91', zorder=2, rwidth=0.9)\n"
   ]
  },
  {
   "cell_type": "code",
   "execution_count": 29,
   "metadata": {},
   "outputs": [
    {
     "data": {
      "text/plain": [
       "5"
      ]
     },
     "execution_count": 29,
     "metadata": {},
     "output_type": "execute_result"
    }
   ],
   "source": [
    "# use group-by and then call seaborn to get the histogram on each group\n",
    "gps = df.groupby(by='uniquename')['interval']\n",
    "len(gps)"
   ]
  },
  {
   "cell_type": "code",
   "execution_count": 34,
   "metadata": {},
   "outputs": [
    {
     "name": "stdout",
     "output_type": "stream",
     "text": [
      "1000-0 267 mean      1016.363296\n",
      "var     482125.360001\n",
      "Name: interval, dtype: float64\n",
      "1000-1 6575 mean      1190.463878\n",
      "var     978016.803342\n",
      "Name: interval, dtype: float64\n",
      "1000-10 1904 mean    4.113344e+03\n",
      "var     2.110759e+07\n",
      "Name: interval, dtype: float64\n",
      "1000-101 5293 mean    1.480439e+03\n",
      "var     1.061198e+06\n",
      "Name: interval, dtype: float64\n",
      "1000-11 956 mean    3.680765e+03\n",
      "var     3.782360e+07\n",
      "Name: interval, dtype: float64\n"
     ]
    },
    {
     "data": {
      "image/png": "[encoded data removed]",
      "text/plain": [
       "<Figure size 432x288 with 1 Axes>"
      ]
     },
     "metadata": {
      "needs_background": "light"
     },
     "output_type": "display_data"
    }
   ],
   "source": [
    "for (name, group) in gps:\n",
    "    print(name, len(group), group.agg({'mean': np.mean, 'var': np.var}))\n",
    "    # input()\n",
    "    sns.distplot(a=group, label=name, kde=False)"
   ]
  },
  {
   "cell_type": "code",
   "execution_count": null,
   "metadata": {},
   "outputs": [],
   "source": []
  }
 ],
 "metadata": {
  "kernelspec": {
   "display_name": "Python 3",
   "language": "python",
   "name": "python3"
  },
  "language_info": {
   "codemirror_mode": {
    "name": "ipython",
    "version": 3
   },
   "file_extension": ".py",
   "mimetype": "text/x-python",
   "name": "python",
   "nbconvert_exporter": "python",
   "pygments_lexer": "ipython3",
   "version": "3.7.1"
  }
 },
 "nbformat": 4,
 "nbformat_minor": 2
}
