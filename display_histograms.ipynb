{
 "cells": [
  {
   "cell_type": "code",
   "execution_count": 6,
   "metadata": {},
   "outputs": [],
   "source": [
    "import pandas as pd\n",
    "import matplotlib.pyplot as plt\n",
    "from matplotlib.ticker import StrMethodFormatter"
   ]
  },
  {
   "cell_type": "code",
   "execution_count": 7,
   "metadata": {},
   "outputs": [],
   "source": [
    "df = pd.read_csv('data/intervals.csv', nrows=500)"
   ]
  },
  {
   "cell_type": "code",
   "execution_count": 8,
   "metadata": {},
   "outputs": [
    {
     "data": {
      "text/html": [
       "<div>\n",
       "<style scoped>\n",
       "    .dataframe tbody tr th:only-of-type {\n",
       "        vertical-align: middle;\n",
       "    }\n",
       "\n",
       "    .dataframe tbody tr th {\n",
       "        vertical-align: top;\n",
       "    }\n",
       "\n",
       "    .dataframe thead th {\n",
       "        text-align: right;\n",
       "    }\n",
       "</style>\n",
       "<table border=\"1\" class=\"dataframe\">\n",
       "  <thead>\n",
       "    <tr style=\"text-align: right;\">\n",
       "      <th></th>\n",
       "      <th>Unnamed: 0</th>\n",
       "      <th>interval</th>\n",
       "      <th>origindex</th>\n",
       "      <th>timestamp</th>\n",
       "      <th>uniquename</th>\n",
       "    </tr>\n",
       "  </thead>\n",
       "  <tbody>\n",
       "    <tr>\n",
       "      <th>495</th>\n",
       "      <td>495</td>\n",
       "      <td>895.0</td>\n",
       "      <td>187336.0</td>\n",
       "      <td>2018-09-16 09:52:02</td>\n",
       "      <td>1000-1</td>\n",
       "    </tr>\n",
       "    <tr>\n",
       "      <th>496</th>\n",
       "      <td>496</td>\n",
       "      <td>905.0</td>\n",
       "      <td>187817.0</td>\n",
       "      <td>2018-09-16 10:07:07</td>\n",
       "      <td>1000-1</td>\n",
       "    </tr>\n",
       "    <tr>\n",
       "      <th>497</th>\n",
       "      <td>497</td>\n",
       "      <td>899.0</td>\n",
       "      <td>188293.0</td>\n",
       "      <td>2018-09-16 10:22:06</td>\n",
       "      <td>1000-1</td>\n",
       "    </tr>\n",
       "    <tr>\n",
       "      <th>498</th>\n",
       "      <td>498</td>\n",
       "      <td>900.0</td>\n",
       "      <td>188785.0</td>\n",
       "      <td>2018-09-16 10:37:06</td>\n",
       "      <td>1000-1</td>\n",
       "    </tr>\n",
       "    <tr>\n",
       "      <th>499</th>\n",
       "      <td>499</td>\n",
       "      <td>905.0</td>\n",
       "      <td>189279.0</td>\n",
       "      <td>2018-09-16 10:52:11</td>\n",
       "      <td>1000-1</td>\n",
       "    </tr>\n",
       "  </tbody>\n",
       "</table>\n",
       "</div>"
      ],
      "text/plain": [
       "     Unnamed: 0  interval  origindex            timestamp uniquename\n",
       "495         495     895.0   187336.0  2018-09-16 09:52:02     1000-1\n",
       "496         496     905.0   187817.0  2018-09-16 10:07:07     1000-1\n",
       "497         497     899.0   188293.0  2018-09-16 10:22:06     1000-1\n",
       "498         498     900.0   188785.0  2018-09-16 10:37:06     1000-1\n",
       "499         499     905.0   189279.0  2018-09-16 10:52:11     1000-1"
      ]
     },
     "execution_count": 8,
     "metadata": {},
     "output_type": "execute_result"
    }
   ],
   "source": [
    "df.tail()"
   ]
  },
  {
   "cell_type": "code",
   "execution_count": 9,
   "metadata": {},
   "outputs": [
    {
     "data": {
      "text/html": [
       "<div>\n",
       "<style scoped>\n",
       "    .dataframe tbody tr th:only-of-type {\n",
       "        vertical-align: middle;\n",
       "    }\n",
       "\n",
       "    .dataframe tbody tr th {\n",
       "        vertical-align: top;\n",
       "    }\n",
       "\n",
       "    .dataframe thead th {\n",
       "        text-align: right;\n",
       "    }\n",
       "</style>\n",
       "<table border=\"1\" class=\"dataframe\">\n",
       "  <thead>\n",
       "    <tr style=\"text-align: right;\">\n",
       "      <th></th>\n",
       "      <th>Unnamed: 0</th>\n",
       "      <th>interval</th>\n",
       "      <th>origindex</th>\n",
       "      <th>timestamp</th>\n",
       "      <th>uniquename</th>\n",
       "    </tr>\n",
       "  </thead>\n",
       "  <tbody>\n",
       "    <tr>\n",
       "      <th>0</th>\n",
       "      <td>0</td>\n",
       "      <td>NaN</td>\n",
       "      <td>NaN</td>\n",
       "      <td>NaN</td>\n",
       "      <td>NaN</td>\n",
       "    </tr>\n",
       "    <tr>\n",
       "      <th>1</th>\n",
       "      <td>1</td>\n",
       "      <td>547.0</td>\n",
       "      <td>1419183.0</td>\n",
       "      <td>2018-10-08 13:00:07</td>\n",
       "      <td>1000-0</td>\n",
       "    </tr>\n",
       "    <tr>\n",
       "      <th>2</th>\n",
       "      <td>2</td>\n",
       "      <td>841.0</td>\n",
       "      <td>1419804.0</td>\n",
       "      <td>2018-10-08 13:14:08</td>\n",
       "      <td>1000-0</td>\n",
       "    </tr>\n",
       "    <tr>\n",
       "      <th>3</th>\n",
       "      <td>3</td>\n",
       "      <td>901.0</td>\n",
       "      <td>1420489.0</td>\n",
       "      <td>2018-10-08 13:29:09</td>\n",
       "      <td>1000-0</td>\n",
       "    </tr>\n",
       "    <tr>\n",
       "      <th>4</th>\n",
       "      <td>4</td>\n",
       "      <td>883.0</td>\n",
       "      <td>1421166.0</td>\n",
       "      <td>2018-10-08 13:43:52</td>\n",
       "      <td>1000-0</td>\n",
       "    </tr>\n",
       "  </tbody>\n",
       "</table>\n",
       "</div>"
      ],
      "text/plain": [
       "   Unnamed: 0  interval  origindex            timestamp uniquename\n",
       "0           0       NaN        NaN                  NaN        NaN\n",
       "1           1     547.0  1419183.0  2018-10-08 13:00:07     1000-0\n",
       "2           2     841.0  1419804.0  2018-10-08 13:14:08     1000-0\n",
       "3           3     901.0  1420489.0  2018-10-08 13:29:09     1000-0\n",
       "4           4     883.0  1421166.0  2018-10-08 13:43:52     1000-0"
      ]
     },
     "execution_count": 9,
     "metadata": {},
     "output_type": "execute_result"
    }
   ],
   "source": [
    "df.head()"
   ]
  },
  {
   "cell_type": "code",
   "execution_count": 10,
   "metadata": {},
   "outputs": [
    {
     "data": {
      "text/plain": [
       "array([<matplotlib.axes._subplots.AxesSubplot object at 0x1159ff8d0>,\n",
       "       <matplotlib.axes._subplots.AxesSubplot object at 0x1160bedd8>],\n",
       "      dtype=object)"
      ]
     },
     "execution_count": 10,
     "metadata": {},
     "output_type": "execute_result"
    },
    {
     "data": {
      "image/png": "[encoded data removed]",
      "text/plain": [
       "<Figure size 432x288 with 2 Axes>"
      ]
     },
     "metadata": {
      "needs_background": "light"
     },
     "output_type": "display_data"
    }
   ],
   "source": [
    "df.hist(column='interval', by='uniquename')"
   ]
  },
  {
   "cell_type": "code",
   "execution_count": null,
   "metadata": {},
   "outputs": [],
   "source": []
  }
 ],
 "metadata": {
  "kernelspec": {
   "display_name": "Python 3",
   "language": "python",
   "name": "python3"
  },
  "language_info": {
   "codemirror_mode": {
    "name": "ipython",
    "version": 3
   },
   "file_extension": ".py",
   "mimetype": "text/x-python",
   "name": "python",
   "nbconvert_exporter": "python",
   "pygments_lexer": "ipython3",
   "version": "3.7.1"
  }
 },
 "nbformat": 4,
 "nbformat_minor": 2
}
