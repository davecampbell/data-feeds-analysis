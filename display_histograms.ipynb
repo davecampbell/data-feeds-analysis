{
 "cells": [
  {
   "cell_type": "code",
   "execution_count": 9,
   "metadata": {},
   "outputs": [],
   "source": [
    "import pandas as pd\n",
    "import numpy as np\n",
    "import matplotlib.pyplot as plt\n",
    "import matplotlib.figure as fig\n",
    "from matplotlib.ticker import StrMethodFormatter\n",
    "import seaborn as sns"
   ]
  },
  {
   "cell_type": "code",
   "execution_count": 10,
   "metadata": {},
   "outputs": [],
   "source": [
    "df = pd.read_csv('data/intervals.csv', nrows=15000)"
   ]
  },
  {
   "cell_type": "code",
   "execution_count": 11,
   "metadata": {},
   "outputs": [],
   "source": [
    "# using matplotlib directly from df.hist()\n",
    "# ax = df.hist(column='interval', by='uniquename', bins=50, grid=True, layout=(5,1), figsize=(12,8), color='#86bf91', zorder=2, rwidth=0.9)\n"
   ]
  },
  {
   "cell_type": "code",
   "execution_count": 12,
   "metadata": {},
   "outputs": [],
   "source": [
    "# for i,x in enumerate(ax):\n",
    "#    print(i, type(x))"
   ]
  },
  {
   "cell_type": "code",
   "execution_count": 13,
   "metadata": {},
   "outputs": [],
   "source": [
    "# make the groupby object (this will be a Series with a Name)\n",
    "gps = df.groupby(by='uniquename')['interval']"
   ]
  },
  {
   "cell_type": "code",
   "execution_count": 14,
   "metadata": {},
   "outputs": [
    {
     "data": {
      "text/html": [
       "<div>\n",
       "<style scoped>\n",
       "    .dataframe tbody tr th:only-of-type {\n",
       "        vertical-align: middle;\n",
       "    }\n",
       "\n",
       "    .dataframe tbody tr th {\n",
       "        vertical-align: top;\n",
       "    }\n",
       "\n",
       "    .dataframe thead th {\n",
       "        text-align: right;\n",
       "    }\n",
       "</style>\n",
       "<table border=\"1\" class=\"dataframe\">\n",
       "  <thead>\n",
       "    <tr style=\"text-align: right;\">\n",
       "      <th></th>\n",
       "      <th>count</th>\n",
       "      <th>mean</th>\n",
       "      <th>std</th>\n",
       "      <th>min</th>\n",
       "      <th>25%</th>\n",
       "      <th>50%</th>\n",
       "      <th>75%</th>\n",
       "      <th>max</th>\n",
       "    </tr>\n",
       "    <tr>\n",
       "      <th>uniquename</th>\n",
       "      <th></th>\n",
       "      <th></th>\n",
       "      <th></th>\n",
       "      <th></th>\n",
       "      <th></th>\n",
       "      <th></th>\n",
       "      <th></th>\n",
       "      <th></th>\n",
       "    </tr>\n",
       "  </thead>\n",
       "  <tbody>\n",
       "    <tr>\n",
       "      <th>1000-0</th>\n",
       "      <td>267.0</td>\n",
       "      <td>1016.363296</td>\n",
       "      <td>694.352475</td>\n",
       "      <td>441.0</td>\n",
       "      <td>893.0</td>\n",
       "      <td>901.0</td>\n",
       "      <td>907.0</td>\n",
       "      <td>9909.0</td>\n",
       "    </tr>\n",
       "    <tr>\n",
       "      <th>1000-1</th>\n",
       "      <td>6575.0</td>\n",
       "      <td>1190.463878</td>\n",
       "      <td>988.947321</td>\n",
       "      <td>70.0</td>\n",
       "      <td>896.0</td>\n",
       "      <td>902.0</td>\n",
       "      <td>910.0</td>\n",
       "      <td>15285.0</td>\n",
       "    </tr>\n",
       "    <tr>\n",
       "      <th>1000-10</th>\n",
       "      <td>1904.0</td>\n",
       "      <td>4113.344013</td>\n",
       "      <td>4594.299328</td>\n",
       "      <td>54.0</td>\n",
       "      <td>1012.0</td>\n",
       "      <td>2694.0</td>\n",
       "      <td>5391.0</td>\n",
       "      <td>37801.0</td>\n",
       "    </tr>\n",
       "    <tr>\n",
       "      <th>1000-101</th>\n",
       "      <td>5293.0</td>\n",
       "      <td>1480.439070</td>\n",
       "      <td>1030.144822</td>\n",
       "      <td>2.0</td>\n",
       "      <td>1174.0</td>\n",
       "      <td>1207.0</td>\n",
       "      <td>1258.0</td>\n",
       "      <td>18386.0</td>\n",
       "    </tr>\n",
       "    <tr>\n",
       "      <th>1000-11</th>\n",
       "      <td>956.0</td>\n",
       "      <td>3680.764644</td>\n",
       "      <td>6150.089094</td>\n",
       "      <td>3.0</td>\n",
       "      <td>874.0</td>\n",
       "      <td>953.5</td>\n",
       "      <td>3506.5</td>\n",
       "      <td>50933.0</td>\n",
       "    </tr>\n",
       "  </tbody>\n",
       "</table>\n",
       "</div>"
      ],
      "text/plain": [
       "             count         mean          std    min     25%     50%     75%  \\\n",
       "uniquename                                                                    \n",
       "1000-0       267.0  1016.363296   694.352475  441.0   893.0   901.0   907.0   \n",
       "1000-1      6575.0  1190.463878   988.947321   70.0   896.0   902.0   910.0   \n",
       "1000-10     1904.0  4113.344013  4594.299328   54.0  1012.0  2694.0  5391.0   \n",
       "1000-101    5293.0  1480.439070  1030.144822    2.0  1174.0  1207.0  1258.0   \n",
       "1000-11      956.0  3680.764644  6150.089094    3.0   874.0   953.5  3506.5   \n",
       "\n",
       "                max  \n",
       "uniquename           \n",
       "1000-0       9909.0  \n",
       "1000-1      15285.0  \n",
       "1000-10     37801.0  \n",
       "1000-101    18386.0  \n",
       "1000-11     50933.0  "
      ]
     },
     "execution_count": 14,
     "metadata": {},
     "output_type": "execute_result"
    }
   ],
   "source": [
    "# output the basic stats of the Series, per group\n",
    "gps.describe()"
   ]
  },
  {
   "cell_type": "code",
   "execution_count": 18,
   "metadata": {},
   "outputs": [
    {
     "data": {
      "image/png": "[encoded data removed]",
      "text/plain": [
       "<matplotlib.figure.Figure at 0x1a1984d470>"
      ]
     },
     "metadata": {},
     "output_type": "display_data"
    },
    {
     "data": {
      "image/png": "[encoded data removed]",
      "text/plain": [
       "<matplotlib.figure.Figure at 0x1a1984d2b0>"
      ]
     },
     "metadata": {},
     "output_type": "display_data"
    },
    {
     "data": {
      "image/png": "[encoded data removed]",
      "text/plain": [
       "<matplotlib.figure.Figure at 0x1a242037f0>"
      ]
     },
     "metadata": {},
     "output_type": "display_data"
    },
    {
     "data": {
      "image/png": "[encoded data removed]",
      "text/plain": [
       "<matplotlib.figure.Figure at 0x1a24195ef0>"
      ]
     },
     "metadata": {},
     "output_type": "display_data"
    },
    {
     "data": {
      "image/png": "[encoded data removed]",
      "text/plain": [
       "<matplotlib.figure.Figure at 0x1a230dcc18>"
      ]
     },
     "metadata": {},
     "output_type": "display_data"
    }
   ],
   "source": [
    "for (name, vals) in gps:\n",
    "    plt.figure()\n",
    "    sns.distplot(vals, bins=100, rug=True, kde=False, label=\"test\", axlabel=\"axlabel test\")"
   ]
  },
  {
   "cell_type": "code",
   "execution_count": 16,
   "metadata": {},
   "outputs": [
    {
     "ename": "NameError",
     "evalue": "name 'gplist' is not defined",
     "output_type": "error",
     "traceback": [
      "\u001b[0;31m---------------------------------------------------------------------------\u001b[0m",
      "\u001b[0;31mNameError\u001b[0m                                 Traceback (most recent call last)",
      "\u001b[0;32m<ipython-input-16-33946f459d4b>\u001b[0m in \u001b[0;36m<module>\u001b[0;34m()\u001b[0m\n\u001b[1;32m      1\u001b[0m \u001b[0mgpnames\u001b[0m \u001b[0;34m=\u001b[0m \u001b[0;34m[\u001b[0m\u001b[0;34m]\u001b[0m\u001b[0;34m\u001b[0m\u001b[0m\n\u001b[1;32m      2\u001b[0m \u001b[0;31m# get the names into a list - the values don't matter now\u001b[0m\u001b[0;34m\u001b[0m\u001b[0;34m\u001b[0m\u001b[0m\n\u001b[0;32m----> 3\u001b[0;31m \u001b[0;32mfor\u001b[0m \u001b[0;34m(\u001b[0m\u001b[0mname\u001b[0m\u001b[0;34m,\u001b[0m \u001b[0mvals\u001b[0m\u001b[0;34m)\u001b[0m \u001b[0;32min\u001b[0m \u001b[0mgplist\u001b[0m\u001b[0;34m:\u001b[0m\u001b[0;34m\u001b[0m\u001b[0m\n\u001b[0m\u001b[1;32m      4\u001b[0m     \u001b[0mgpnames\u001b[0m\u001b[0;34m.\u001b[0m\u001b[0mappend\u001b[0m\u001b[0;34m(\u001b[0m\u001b[0mname\u001b[0m\u001b[0;34m)\u001b[0m\u001b[0;34m\u001b[0m\u001b[0m\n\u001b[1;32m      5\u001b[0m     \u001b[0mplt\u001b[0m\u001b[0;34m.\u001b[0m\u001b[0mfigure\u001b[0m\u001b[0;34m(\u001b[0m\u001b[0;34m)\u001b[0m\u001b[0;34m\u001b[0m\u001b[0m\n",
      "\u001b[0;31mNameError\u001b[0m: name 'gplist' is not defined"
     ]
    }
   ],
   "source": [
    "gpnames = []\n",
    "# get the names into a list - the values don't matter now\n",
    "for (name, vals) in gplist:\n",
    "    gpnames.append(name)\n",
    "    plt.figure()\n",
    "    sns.distplot(vals, label=name, kde=False)"
   ]
  },
  {
   "cell_type": "code",
   "execution_count": null,
   "metadata": {},
   "outputs": [],
   "source": [
    "for gp in gpnames:\n",
    "    print(gp)\n",
    "    # now get the data\n",
    "    vals = gps.get_group(gp)\n",
    "    print(len(vals))\n",
    "    plt.figure()\n",
    "    sns.distplot(vals, kde=False)"
   ]
  },
  {
   "cell_type": "code",
   "execution_count": null,
   "metadata": {},
   "outputs": [],
   "source": []
  }
 ],
 "metadata": {
  "kernelspec": {
   "display_name": "Python 3",
   "language": "python",
   "name": "python3"
  },
  "language_info": {
   "codemirror_mode": {
    "name": "ipython",
    "version": 3
   },
   "file_extension": ".py",
   "mimetype": "text/x-python",
   "name": "python",
   "nbconvert_exporter": "python",
   "pygments_lexer": "ipython3",
   "version": "3.6.4"
  }
 },
 "nbformat": 4,
 "nbformat_minor": 2
}
