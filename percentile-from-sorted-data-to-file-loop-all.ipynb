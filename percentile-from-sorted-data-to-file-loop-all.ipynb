{
 "cells": [
  {
   "cell_type": "code",
   "execution_count": 6,
   "metadata": {},
   "outputs": [],
   "source": [
    "import pandas as pd\n",
    "import numpy as np\n",
    "from scipy import stats\n",
    "from datetime import datetime as dt"
   ]
  },
  {
   "cell_type": "code",
   "execution_count": 7,
   "metadata": {},
   "outputs": [
    {
     "name": "stdout",
     "output_type": "stream",
     "text": [
      "2019-02-16 11:27:46.276297\n",
      "2019-02-16 11:27:53.239725\n"
     ]
    }
   ],
   "source": [
    "# read the slotted interval data file from disk\n",
    "print(dt.now())\n",
    "df_all = pd.read_csv('data/intervals_slotted.csv')\n",
    "print(dt.now())"
   ]
  },
  {
   "cell_type": "code",
   "execution_count": 93,
   "metadata": {},
   "outputs": [],
   "source": [
    "def make_output(a, df, trim_value, s, o, pc, pl, rl):\n",
    "    \n",
    "    # this removes the rows considered to be 'outliers'\n",
    "    # trimmed will be what is to the left of the threshold (the non-outliers)\n",
    "    trimmed = df[df.interval < trim_value]\n",
    "\n",
    "    # set the groupby using the timeslot\n",
    "    by_slot = trimmed.groupby('SLOT')\n",
    "    \n",
    "    for name, group in by_slot:\n",
    "        d = {}\n",
    "        ag = group[\"interval\"]\n",
    "#        print(\"name: {}, size: {}\".format(name, ag.size))\n",
    "        d['agency'] = a\n",
    "        d['slot'] = name\n",
    "        d['size'] = ag.size\n",
    "        d['max'] = np.max(ag)\n",
    "        d['min'] = np.min(ag)\n",
    "        for i, p in enumerate(pc):\n",
    "            d[pl[i]] = np.percentile(ag, p, interpolation='higher')\n",
    "            d[rl[i]] = ag.size - int(ag.size * p/100)\n",
    "        # add to the output df\n",
    "        o.loc[len(o)] = d"
   ]
  },
  {
   "cell_type": "code",
   "execution_count": 102,
   "metadata": {},
   "outputs": [],
   "source": [
    "def get_agency_list(method):\n",
    "    a_list = []\n",
    "    if method == 'f':\n",
    "        agency_list_file = 'agency-list-001.txt'\n",
    "        fo = open(agency_list_file, \"r\")\n",
    "        for line in fo:\n",
    "            a_list.append(line.rstrip('\\n'))\n",
    "    else:\n",
    "        a_list = ['34003-1', '34003-2']\n",
    "\n",
    "    return a_list"
   ]
  },
  {
   "cell_type": "code",
   "execution_count": 103,
   "metadata": {
    "scrolled": false
   },
   "outputs": [
    {
     "name": "stdout",
     "output_type": "stream",
     "text": [
      "agency: 34003-2, time start: 2019-02-16 14:06:38.628875\n",
      "agency: 34003-3, time start: 2019-02-16 14:06:38.933003\n",
      "agency: 34003-4, time start: 2019-02-16 14:06:39.244877\n",
      "agency: 34003-5, time start: 2019-02-16 14:06:39.564594\n",
      "agency: 34003-6, time start: 2019-02-16 14:06:39.883819\n",
      "agency: 34003-7, time start: 2019-02-16 14:06:40.204460\n",
      "agency: 34003-8, time start: 2019-02-16 14:06:40.523170\n",
      "agency: 34003-9, time start: 2019-02-16 14:06:40.838591\n",
      "agency: 34003-10, time start: 2019-02-16 14:06:41.157880\n",
      "agency: 34003-11, time start: 2019-02-16 14:06:41.480136\n",
      "agency: 34003-12, time start: 2019-02-16 14:06:41.803060\n",
      "agency: 34003-13, time start: 2019-02-16 14:06:42.124503\n",
      "agency: 34003-14, time start: 2019-02-16 14:06:42.446359\n",
      "agency: 34003-15, time start: 2019-02-16 14:06:42.777934\n",
      "agency: 34003-17, time start: 2019-02-16 14:06:43.107881\n",
      "agency: 34003-18, time start: 2019-02-16 14:06:43.431889\n",
      "agency: 34003-19, time start: 2019-02-16 14:06:43.752970\n",
      "agency: 34003-20, time start: 2019-02-16 14:06:44.070263\n",
      "agency: 34003-21, time start: 2019-02-16 14:06:44.393359\n",
      "agency: 34003-22, time start: 2019-02-16 14:06:44.709759\n",
      "agency: 34003-23, time start: 2019-02-16 14:06:45.025804\n",
      "agency: 34003-24, time start: 2019-02-16 14:06:45.347177\n",
      "agency: 34003-25, time start: 2019-02-16 14:06:45.666803\n",
      "agency: 34003-26, time start: 2019-02-16 14:06:45.986036\n",
      "agency: 34003-27, time start: 2019-02-16 14:06:46.306451\n",
      "agency: 34003-28, time start: 2019-02-16 14:06:46.630181\n",
      "agency: 34003-29, time start: 2019-02-16 14:06:46.950060\n",
      "agency: 34003-30, time start: 2019-02-16 14:06:47.269531\n",
      "agency: 34003-31, time start: 2019-02-16 14:06:47.593569\n",
      "agency: 34003-32, time start: 2019-02-16 14:06:47.927528\n",
      "agency: 34003-35, time start: 2019-02-16 14:06:48.245771\n",
      "agency: 34003-36, time start: 2019-02-16 14:06:48.568181\n",
      "agency: 34003-37, time start: 2019-02-16 14:06:48.888017\n",
      "agency: 34003-39, time start: 2019-02-16 14:06:49.207774\n",
      "agency: 34003-40, time start: 2019-02-16 14:06:49.525866\n",
      "agency: 34003-41, time start: 2019-02-16 14:06:49.851741\n",
      "agency: 34003-42, time start: 2019-02-16 14:06:50.178125\n",
      "agency: 34003-45, time start: 2019-02-16 14:06:50.502933\n",
      "agency: 34003-47, time start: 2019-02-16 14:06:50.855054\n",
      "agency: 34003-50, time start: 2019-02-16 14:06:51.174454\n",
      "agency: 34003-51, time start: 2019-02-16 14:06:51.493386\n",
      "agency: 34003-52, time start: 2019-02-16 14:06:51.811476\n",
      "agency: 34003-53, time start: 2019-02-16 14:06:52.132081\n",
      "agency: 34003-54, time start: 2019-02-16 14:06:52.433550\n",
      "agency: 34003-56, time start: 2019-02-16 14:06:52.754491\n",
      "agency: 34003-58, time start: 2019-02-16 14:06:53.088284\n",
      "agency: 34003-59, time start: 2019-02-16 14:06:53.413854\n",
      "agency: 34003-57, time start: 2019-02-16 14:06:53.738982\n",
      "agency: 34003-61, time start: 2019-02-16 14:06:54.065583\n",
      "agency: 34003-63, time start: 2019-02-16 14:06:54.396922\n",
      "agency: 34003-64, time start: 2019-02-16 14:06:54.715790\n",
      "agency: 34003-66, time start: 2019-02-16 14:06:55.041175\n",
      "agency: 34003-1, time start: 2019-02-16 14:06:55.354740\n",
      "agency: 34003-68, time start: 2019-02-16 14:06:55.679604\n",
      "agency: 34003-69, time start: 2019-02-16 14:06:56.001248\n",
      "agency: 34003-70, time start: 2019-02-16 14:06:56.320715\n",
      "agency: 34003-71, time start: 2019-02-16 14:06:56.645309\n",
      "agency: 34003-74, time start: 2019-02-16 14:06:56.962818\n",
      "agency: 34003-75, time start: 2019-02-16 14:06:57.281594\n",
      "agency: 34003-76, time start: 2019-02-16 14:06:57.609092\n",
      "agency: 34003-77, time start: 2019-02-16 14:06:57.931780\n",
      "agency: 34003-78, time start: 2019-02-16 14:06:58.257949\n",
      "agency: 34003-79, time start: 2019-02-16 14:06:58.584220\n",
      "agency: 34003-80, time start: 2019-02-16 14:06:58.908677\n",
      "agency: 34003-81, time start: 2019-02-16 14:06:59.234050\n",
      "agency: 34003-83, time start: 2019-02-16 14:06:59.552636\n",
      "agency: 34003-84, time start: 2019-02-16 14:06:59.877701\n",
      "agency: 34003-899, time start: 2019-02-16 14:07:00.193435\n",
      "agency: 34003-85, time start: 2019-02-16 14:07:00.526578\n",
      "agency: 34003-2500, time start: 2019-02-16 14:07:00.840913\n",
      "agency: 34003-88, time start: 2019-02-16 14:07:01.130011\n",
      "agency: 34003-89, time start: 2019-02-16 14:07:01.448934\n",
      "agency: 34003-91, time start: 2019-02-16 14:07:01.773091\n",
      "agency: 34003-92, time start: 2019-02-16 14:07:02.111920\n",
      "agency: 34003-93, time start: 2019-02-16 14:07:02.433972\n",
      "agency: 34003-94, time start: 2019-02-16 14:07:02.766181\n",
      "agency: 34003-95, time start: 2019-02-16 14:07:03.085350\n",
      "agency: 34003-96, time start: 2019-02-16 14:07:03.404854\n",
      "agency: 34003-97, time start: 2019-02-16 14:07:03.731614\n",
      "agency: 34003-98, time start: 2019-02-16 14:07:04.047752\n",
      "agency: 34003-99, time start: 2019-02-16 14:07:04.373054\n",
      "agency: 34003-100, time start: 2019-02-16 14:07:04.686893\n",
      "agency: 34003-101, time start: 2019-02-16 14:07:04.999378\n"
     ]
    }
   ],
   "source": [
    "pctiles = [50, 75, 85, 90, 95, 96, 97, 98, 99, 100]\n",
    "colnames = ['agency', 'slot', 'size', 'min', 'max']\n",
    "plist = []\n",
    "rlist = []\n",
    "\n",
    "for p in pctiles:\n",
    "    colnames.append(str(p) + '-p')\n",
    "    plist.append(str(p) + '-p')\n",
    "    colnames.append(str(p) + '-r')\n",
    "    rlist.append(str(p) + '-r')\n",
    "\n",
    "out_df = pd.DataFrame(columns=colnames)\n",
    "    \n",
    "# loop through the agency list, make the output\n",
    "\n",
    "for agency in get_agency_list('f'):\n",
    "    \n",
    "    agency_bool = df_all['uniquename'] == agency\n",
    "    agency_df = df_all[agency_bool]\n",
    "    \n",
    "    outlier_threshold = 100000000\n",
    "    \n",
    "    saveoutput = 1\n",
    "    print(\"agency: {}, time start: {}\".format(agency, dt.now()))\n",
    "    make_output(agency, agency_df, outlier_threshold, saveoutput, out_df, pctiles, plist, rlist)\n"
   ]
  },
  {
   "cell_type": "code",
   "execution_count": 104,
   "metadata": {},
   "outputs": [],
   "source": [
    "# save to a csv\n",
    "out_df.to_csv('output/percentile-data-all.csv')"
   ]
  },
  {
   "cell_type": "code",
   "execution_count": null,
   "metadata": {},
   "outputs": [],
   "source": []
  }
 ],
 "metadata": {
  "kernelspec": {
   "display_name": "Python 3",
   "language": "python",
   "name": "python3"
  },
  "language_info": {
   "codemirror_mode": {
    "name": "ipython",
    "version": 3
   },
   "file_extension": ".py",
   "mimetype": "text/x-python",
   "name": "python",
   "nbconvert_exporter": "python",
   "pygments_lexer": "ipython3",
   "version": "3.7.1"
  }
 },
 "nbformat": 4,
 "nbformat_minor": 2
}
