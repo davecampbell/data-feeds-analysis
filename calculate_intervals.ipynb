{
 "cells": [
  {
   "cell_type": "code",
   "execution_count": 1,
   "metadata": {},
   "outputs": [
    {
     "data": {
      "text/plain": [
       "<module 'logging' from '/anaconda3/lib/python3.7/logging/__init__.py'>"
      ]
     },
     "execution_count": 1,
     "metadata": {},
     "output_type": "execute_result"
    }
   ],
   "source": [
    "import pandas as pd\n",
    "import datetime as dt\n",
    "from datetime import timedelta\n",
    "import time\n",
    "import dateutil\n",
    "from dateutil.parser import parse\n",
    "import logging\n",
    "import importlib\n",
    "importlib.reload(logging)"
   ]
  },
  {
   "cell_type": "code",
   "execution_count": 2,
   "metadata": {},
   "outputs": [],
   "source": [
    "logging.basicConfig(format='%(asctime)s %(levelname)s:%(message)s', level=logging.DEBUG, datefmt='%I:%M:%S')"
   ]
  },
  {
   "cell_type": "code",
   "execution_count": 3,
   "metadata": {},
   "outputs": [
    {
     "name": "stderr",
     "output_type": "stream",
     "text": [
      "12:44:00 INFO:now starting...\n"
     ]
    }
   ],
   "source": [
    "logging.info(\"now starting...\")"
   ]
  },
  {
   "cell_type": "code",
   "execution_count": 4,
   "metadata": {},
   "outputs": [
    {
     "name": "stderr",
     "output_type": "stream",
     "text": [
      "12:44:01 INFO:...before reading csv file.\n",
      "12:44:11 INFO:...after reading csv file.\n"
     ]
    },
    {
     "data": {
      "text/html": [
       "<div>\n",
       "<style scoped>\n",
       "    .dataframe tbody tr th:only-of-type {\n",
       "        vertical-align: middle;\n",
       "    }\n",
       "\n",
       "    .dataframe tbody tr th {\n",
       "        vertical-align: top;\n",
       "    }\n",
       "\n",
       "    .dataframe thead th {\n",
       "        text-align: right;\n",
       "    }\n",
       "</style>\n",
       "<table border=\"1\" class=\"dataframe\">\n",
       "  <thead>\n",
       "    <tr style=\"text-align: right;\">\n",
       "      <th></th>\n",
       "      <th>AGENCY</th>\n",
       "      <th>EXIT_STATUS_CD</th>\n",
       "      <th>EXIT_STATUS_TEXT</th>\n",
       "      <th>IMPORT2_END_TS</th>\n",
       "      <th>IMPORT2_START_TS</th>\n",
       "      <th>PROCESS_END_TS</th>\n",
       "      <th>PROCESS_START_TS</th>\n",
       "      <th>SITE_ID</th>\n",
       "      <th>TOTAL_RECORDS</th>\n",
       "    </tr>\n",
       "  </thead>\n",
       "  <tbody>\n",
       "    <tr>\n",
       "      <th>0</th>\n",
       "      <td>25</td>\n",
       "      <td>0.0</td>\n",
       "      <td>NaN</td>\n",
       "      <td>NaN</td>\n",
       "      <td>NaN</td>\n",
       "      <td>9/13/2018 12:00:02 AM</td>\n",
       "      <td>9/13/2018 12:00:01 AM</td>\n",
       "      <td>10000</td>\n",
       "      <td>6</td>\n",
       "    </tr>\n",
       "    <tr>\n",
       "      <th>1</th>\n",
       "      <td>25</td>\n",
       "      <td>0.0</td>\n",
       "      <td>NaN</td>\n",
       "      <td>NaN</td>\n",
       "      <td>NaN</td>\n",
       "      <td>9/13/2018 12:00:02 AM</td>\n",
       "      <td>9/13/2018 12:00:01 AM</td>\n",
       "      <td>1000</td>\n",
       "      <td>6</td>\n",
       "    </tr>\n",
       "    <tr>\n",
       "      <th>2</th>\n",
       "      <td>75</td>\n",
       "      <td>0.0</td>\n",
       "      <td>NaN</td>\n",
       "      <td>NaN</td>\n",
       "      <td>NaN</td>\n",
       "      <td>9/13/2018 12:00:03 AM</td>\n",
       "      <td>9/13/2018 12:00:02 AM</td>\n",
       "      <td>23005</td>\n",
       "      <td>2</td>\n",
       "    </tr>\n",
       "    <tr>\n",
       "      <th>3</th>\n",
       "      <td>141</td>\n",
       "      <td>0.0</td>\n",
       "      <td>NaN</td>\n",
       "      <td>NaN</td>\n",
       "      <td>NaN</td>\n",
       "      <td>9/13/2018 12:00:03 AM</td>\n",
       "      <td>9/13/2018 12:00:03 AM</td>\n",
       "      <td>14004</td>\n",
       "      <td>2</td>\n",
       "    </tr>\n",
       "    <tr>\n",
       "      <th>4</th>\n",
       "      <td>37</td>\n",
       "      <td>0.0</td>\n",
       "      <td>NaN</td>\n",
       "      <td>NaN</td>\n",
       "      <td>NaN</td>\n",
       "      <td>9/13/2018 12:00:06 AM</td>\n",
       "      <td>9/13/2018 12:00:05 AM</td>\n",
       "      <td>25000</td>\n",
       "      <td>178</td>\n",
       "    </tr>\n",
       "  </tbody>\n",
       "</table>\n",
       "</div>"
      ],
      "text/plain": [
       "   AGENCY  EXIT_STATUS_CD EXIT_STATUS_TEXT IMPORT2_END_TS IMPORT2_START_TS  \\\n",
       "0      25             0.0              NaN            NaN              NaN   \n",
       "1      25             0.0              NaN            NaN              NaN   \n",
       "2      75             0.0              NaN            NaN              NaN   \n",
       "3     141             0.0              NaN            NaN              NaN   \n",
       "4      37             0.0              NaN            NaN              NaN   \n",
       "\n",
       "          PROCESS_END_TS       PROCESS_START_TS  SITE_ID  TOTAL_RECORDS  \n",
       "0  9/13/2018 12:00:02 AM  9/13/2018 12:00:01 AM    10000              6  \n",
       "1  9/13/2018 12:00:02 AM  9/13/2018 12:00:01 AM     1000              6  \n",
       "2  9/13/2018 12:00:03 AM  9/13/2018 12:00:02 AM    23005              2  \n",
       "3  9/13/2018 12:00:03 AM  9/13/2018 12:00:03 AM    14004              2  \n",
       "4  9/13/2018 12:00:06 AM  9/13/2018 12:00:05 AM    25000            178  "
      ]
     },
     "execution_count": 4,
     "metadata": {},
     "output_type": "execute_result"
    }
   ],
   "source": [
    "logging.info(\"...before reading csv file.\")\n",
    "# read a csv into a dataframe\n",
    "df = pd.read_csv('data/IMPORT_CONTROL.txt')\n",
    "logging.info(\"...after reading csv file.\")\n",
    "\n",
    "df.head()"
   ]
  },
  {
   "cell_type": "code",
   "execution_count": null,
   "metadata": {},
   "outputs": [],
   "source": [
    "logging.info(\"...before creating new column.\")\n",
    "# need to make a field to uniquely identify each agency\n",
    "# concatenating the SITE_ID and the AGENCY will do this\n",
    "named = df.assign(uniquename = df.SITE_ID.astype(str) + '-' + df.AGENCY.astype(str))\n",
    "logging.info(\"...after creating new column.\")\n",
    "\n",
    "# new dataframe to record new info\n",
    "# interval_df = pd.DataFrame(columns=['uniquename', 'timestamp', 'interval', 'origindex'])"
   ]
  },
  {
   "cell_type": "code",
   "execution_count": null,
   "metadata": {},
   "outputs": [],
   "source": [
    "# use the groupby functions to look at events for each agency\n",
    "logging.info(\"...before groupby.\")\n",
    "grouped = named.groupby('uniquename')\n",
    "logging.info(\"...after groupby.\")"
   ]
  },
  {
   "cell_type": "code",
   "execution_count": null,
   "metadata": {},
   "outputs": [],
   "source": [
    "logging.info(\"...before dict\")\n",
    "# make a dictionary of the group names\n",
    "groups = dict(list(grouped))\n",
    "logging.info(\"...after dict\")\n"
   ]
  },
  {
   "cell_type": "code",
   "execution_count": null,
   "metadata": {},
   "outputs": [],
   "source": [
    "data_rows = []\n",
    "i = 0\n",
    "# for each group\n",
    "for name in groups:\n",
    "    # print(name)\n",
    "    # get the group as a dataframe\n",
    "    g = grouped.get_group(name)\n",
    "    # logging.info(\"length of group: {}\".format(len(g)))\n",
    "    j = 0\n",
    "    t = time.process_time()\n",
    "    # then go through the dataframe row by row\n",
    "    for r in g.itertuples():\n",
    "        # logging.info(\"..on row# {}\".format(r))\n",
    "        # only for rows > 0\n",
    "        row = {}\n",
    "        if j > 0 and isinstance(r.PROCESS_END_TS, str):\n",
    "            # calculate seconds between this timestamp and the timestamp from the last row\n",
    "            thistime = parse(r.PROCESS_END_TS)\n",
    "            lasttime = parse(last)\n",
    "            secs = (thistime - lasttime).total_seconds()\n",
    "            # print(r.Index, thistime, lasttime, secs)\n",
    "            # interval_df = interval_df.append({'timestamp': thistime, 'uniquename': name, 'interval': secs, 'origindex': r.Index}, ignore_index=True)\n",
    "            # set the dictionary with the values from this calculated interval\n",
    "            row['timestamp'] = thistime\n",
    "            row['uniquename'] = name\n",
    "            row['interval'] = secs\n",
    "            row['origindex'] = r.Index\n",
    "            last = r.PROCESS_END_TS\n",
    "        if j == 0 and isinstance(r.PROCESS_END_TS, str):\n",
    "            last = r.PROCESS_END_TS\n",
    "        j += 1\n",
    "        # append the dictionary to the data_rows array\n",
    "        data_rows.append(row)\n",
    "    i += 1\n",
    "    dur = time.process_time() - t\n",
    "#    logging.info(\"dur: {}, num: {}, avg: {}\".format(dur, len(g), dur / len(g)))\n",
    "    if i > 200000:\n",
    "        break\n",
    "    if i == 1 or i%20 == 0:\n",
    "        logging.info(\"agency #{} out of {}\".format(i, len(groups)))\n",
    "\n",
    "# create the dataframe from the data_rows array\n",
    "interval_df = pd.DataFrame(data_rows)\n",
    "# then write it out to a file\n",
    "interval_df.to_csv('data/intervals.csv')"
   ]
  },
  {
   "cell_type": "code",
   "execution_count": null,
   "metadata": {},
   "outputs": [],
   "source": []
  }
 ],
 "metadata": {
  "kernelspec": {
   "display_name": "Python 3",
   "language": "python",
   "name": "python3"
  },
  "language_info": {
   "codemirror_mode": {
    "name": "ipython",
    "version": 3
   },
   "file_extension": ".py",
   "mimetype": "text/x-python",
   "name": "python",
   "nbconvert_exporter": "python",
   "pygments_lexer": "ipython3",
   "version": "3.7.1"
  }
 },
 "nbformat": 4,
 "nbformat_minor": 2
}
