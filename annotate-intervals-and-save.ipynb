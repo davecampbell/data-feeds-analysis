{
 "cells": [
  {
   "cell_type": "code",
   "execution_count": 1,
   "metadata": {},
   "outputs": [],
   "source": [
    "import pandas as pd\n",
    "from datetime import datetime as dt\n",
    "from dateutil.parser import parse"
   ]
  },
  {
   "cell_type": "code",
   "execution_count": null,
   "metadata": {},
   "outputs": [],
   "source": [
    "# read the big interval data file from disk\n",
    "print(dt.now())\n",
    "df_all = pd.read_csv('data/intervals.csv')\n",
    "print(dt.now())"
   ]
  },
  {
   "cell_type": "code",
   "execution_count": null,
   "metadata": {},
   "outputs": [],
   "source": [
    "# clean up and annotate\n",
    "print(dt.now())\n",
    "# remove rows that have any blank values\n",
    "# this will remove the first row which is bogus - an artifact of the interval calculation process.\n",
    "df_all.dropna(axis='index', how='any', inplace=True)\n",
    "\n",
    "# add a new column which is the timestamp as a datetime object\n",
    "df_all['ts'] = df_all.apply(lambda row: parse(row.timestamp), axis=1)\n",
    "\n",
    "# add a new column for the hour of the day\n",
    "df_all['HR'] = df_all.apply(lambda row: row.ts.hour, axis=1)\n",
    "\n",
    "# add a new column for the day of the week\n",
    "df_all['DOW'] = df_all.apply(lambda row: row.ts.weekday(), axis=1)\n",
    "\n",
    "# this function will return a 'code' for (W)eekend, (N)ight, or (D)ay\n",
    "def timeslot(h,d):\n",
    "    # h - hour of day\n",
    "    # d - day of week (0=Monday)\n",
    "    if d > 4:             # day 5 or 6 (saturday or sunday)\n",
    "        return \"W\"        # then Weekend\n",
    "    elif h < 8 or h > 17: # before 7:59a or after 5:59p \n",
    "        return \"N\"        # then Night\n",
    "    else:                 # otherwise\n",
    "        return \"D\"        # Day\n",
    "\n",
    "# make a new column with the timeslot code in it\n",
    "df_all['SLOT'] = df_all.apply(lambda row: timeslot(row.HR, row.DOW), axis=1)\n",
    "print(dt.now())"
   ]
  },
  {
   "cell_type": "code",
   "execution_count": null,
   "metadata": {},
   "outputs": [],
   "source": [
    "# write annoated data to file\n",
    "df_all.to_csv('data/intervals_slotted.csv', columns=['interval', 'uniquename', 'ts', 'HR', 'DOW', 'SLOT'], header=True)"
   ]
  }
 ],
 "metadata": {
  "kernelspec": {
   "display_name": "Python 3",
   "language": "python",
   "name": "python3"
  },
  "language_info": {
   "codemirror_mode": {
    "name": "ipython",
    "version": 3
   },
   "file_extension": ".py",
   "mimetype": "text/x-python",
   "name": "python",
   "nbconvert_exporter": "python",
   "pygments_lexer": "ipython3",
   "version": "3.7.1"
  }
 },
 "nbformat": 4,
 "nbformat_minor": 2
}
