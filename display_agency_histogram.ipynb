{
 "cells": [
  {
   "cell_type": "code",
   "execution_count": 1,
   "metadata": {},
   "outputs": [],
   "source": [
    "import pandas as pd\n",
    "import numpy as np\n",
    "from scipy import stats\n",
    "import matplotlib.pyplot as plt\n",
    "import matplotlib.figure as fig\n",
    "from matplotlib.ticker import StrMethodFormatter\n",
    "import seaborn as sns"
   ]
  },
  {
   "cell_type": "code",
   "execution_count": 2,
   "metadata": {},
   "outputs": [],
   "source": [
    "# read the first 15000 rows of the intervals file\n",
    "# df = pd.read_csv('data/intervals.csv', nrows=15000)"
   ]
  },
  {
   "cell_type": "code",
   "execution_count": 3,
   "metadata": {},
   "outputs": [],
   "source": [
    "# we only want the interval data from a single agency\n",
    "agency = \"32000-1\"\n",
    "# read the file in chunks, then append only the data that matches that agency\n",
    "iter_csv = pd.read_csv('data/intervals.csv', iterator=True, chunksize=1000)\n",
    "df = pd.concat([chunk[chunk['uniquename'] == agency] for chunk in iter_csv])"
   ]
  },
  {
   "cell_type": "code",
   "execution_count": 7,
   "metadata": {},
   "outputs": [
    {
     "data": {
      "text/html": [
       "<div>\n",
       "<style scoped>\n",
       "    .dataframe tbody tr th:only-of-type {\n",
       "        vertical-align: middle;\n",
       "    }\n",
       "\n",
       "    .dataframe tbody tr th {\n",
       "        vertical-align: top;\n",
       "    }\n",
       "\n",
       "    .dataframe thead th {\n",
       "        text-align: right;\n",
       "    }\n",
       "</style>\n",
       "<table border=\"1\" class=\"dataframe\">\n",
       "  <thead>\n",
       "    <tr style=\"text-align: right;\">\n",
       "      <th></th>\n",
       "      <th>Unnamed: 0</th>\n",
       "      <th>interval</th>\n",
       "      <th>origindex</th>\n",
       "    </tr>\n",
       "  </thead>\n",
       "  <tbody>\n",
       "    <tr>\n",
       "      <th>count</th>\n",
       "      <td>1.103500e+04</td>\n",
       "      <td>11035.000000</td>\n",
       "      <td>1.103500e+04</td>\n",
       "    </tr>\n",
       "    <tr>\n",
       "      <th>mean</th>\n",
       "      <td>2.396286e+06</td>\n",
       "      <td>709.984232</td>\n",
       "      <td>2.443959e+06</td>\n",
       "    </tr>\n",
       "    <tr>\n",
       "      <th>std</th>\n",
       "      <td>3.185674e+03</td>\n",
       "      <td>775.509892</td>\n",
       "      <td>1.421359e+06</td>\n",
       "    </tr>\n",
       "    <tr>\n",
       "      <th>min</th>\n",
       "      <td>2.390769e+06</td>\n",
       "      <td>60.000000</td>\n",
       "      <td>1.996000e+03</td>\n",
       "    </tr>\n",
       "    <tr>\n",
       "      <th>25%</th>\n",
       "      <td>2.393528e+06</td>\n",
       "      <td>176.000000</td>\n",
       "      <td>1.195868e+06</td>\n",
       "    </tr>\n",
       "    <tr>\n",
       "      <th>50%</th>\n",
       "      <td>2.396286e+06</td>\n",
       "      <td>717.000000</td>\n",
       "      <td>2.442274e+06</td>\n",
       "    </tr>\n",
       "    <tr>\n",
       "      <th>75%</th>\n",
       "      <td>2.399044e+06</td>\n",
       "      <td>839.500000</td>\n",
       "      <td>3.690540e+06</td>\n",
       "    </tr>\n",
       "    <tr>\n",
       "      <th>max</th>\n",
       "      <td>2.401803e+06</td>\n",
       "      <td>15798.000000</td>\n",
       "      <td>4.873760e+06</td>\n",
       "    </tr>\n",
       "  </tbody>\n",
       "</table>\n",
       "</div>"
      ],
      "text/plain": [
       "         Unnamed: 0      interval     origindex\n",
       "count  1.103500e+04  11035.000000  1.103500e+04\n",
       "mean   2.396286e+06    709.984232  2.443959e+06\n",
       "std    3.185674e+03    775.509892  1.421359e+06\n",
       "min    2.390769e+06     60.000000  1.996000e+03\n",
       "25%    2.393528e+06    176.000000  1.195868e+06\n",
       "50%    2.396286e+06    717.000000  2.442274e+06\n",
       "75%    2.399044e+06    839.500000  3.690540e+06\n",
       "max    2.401803e+06  15798.000000  4.873760e+06"
      ]
     },
     "execution_count": 7,
     "metadata": {},
     "output_type": "execute_result"
    }
   ],
   "source": [
    "df.describe()"
   ]
  },
  {
   "cell_type": "code",
   "execution_count": 8,
   "metadata": {},
   "outputs": [
    {
     "data": {
      "text/html": [
       "<div>\n",
       "<style scoped>\n",
       "    .dataframe tbody tr th:only-of-type {\n",
       "        vertical-align: middle;\n",
       "    }\n",
       "\n",
       "    .dataframe tbody tr th {\n",
       "        vertical-align: top;\n",
       "    }\n",
       "\n",
       "    .dataframe thead th {\n",
       "        text-align: right;\n",
       "    }\n",
       "</style>\n",
       "<table border=\"1\" class=\"dataframe\">\n",
       "  <thead>\n",
       "    <tr style=\"text-align: right;\">\n",
       "      <th></th>\n",
       "      <th>Unnamed: 0</th>\n",
       "      <th>interval</th>\n",
       "      <th>origindex</th>\n",
       "      <th>timestamp</th>\n",
       "      <th>uniquename</th>\n",
       "    </tr>\n",
       "  </thead>\n",
       "  <tbody>\n",
       "    <tr>\n",
       "      <th>2390769</th>\n",
       "      <td>2390769</td>\n",
       "      <td>939.0</td>\n",
       "      <td>1996.0</td>\n",
       "      <td>2018-09-13 00:51:27</td>\n",
       "      <td>32000-1</td>\n",
       "    </tr>\n",
       "    <tr>\n",
       "      <th>2390770</th>\n",
       "      <td>2390770</td>\n",
       "      <td>150.0</td>\n",
       "      <td>2094.0</td>\n",
       "      <td>2018-09-13 00:53:57</td>\n",
       "      <td>32000-1</td>\n",
       "    </tr>\n",
       "    <tr>\n",
       "      <th>2390771</th>\n",
       "      <td>2390771</td>\n",
       "      <td>702.0</td>\n",
       "      <td>2493.0</td>\n",
       "      <td>2018-09-13 01:05:39</td>\n",
       "      <td>32000-1</td>\n",
       "    </tr>\n",
       "    <tr>\n",
       "      <th>2390772</th>\n",
       "      <td>2390772</td>\n",
       "      <td>126.0</td>\n",
       "      <td>2574.0</td>\n",
       "      <td>2018-09-13 01:07:45</td>\n",
       "      <td>32000-1</td>\n",
       "    </tr>\n",
       "    <tr>\n",
       "      <th>2390773</th>\n",
       "      <td>2390773</td>\n",
       "      <td>811.0</td>\n",
       "      <td>3056.0</td>\n",
       "      <td>2018-09-13 01:21:16</td>\n",
       "      <td>32000-1</td>\n",
       "    </tr>\n",
       "  </tbody>\n",
       "</table>\n",
       "</div>"
      ],
      "text/plain": [
       "         Unnamed: 0  interval  origindex            timestamp uniquename\n",
       "2390769     2390769     939.0     1996.0  2018-09-13 00:51:27    32000-1\n",
       "2390770     2390770     150.0     2094.0  2018-09-13 00:53:57    32000-1\n",
       "2390771     2390771     702.0     2493.0  2018-09-13 01:05:39    32000-1\n",
       "2390772     2390772     126.0     2574.0  2018-09-13 01:07:45    32000-1\n",
       "2390773     2390773     811.0     3056.0  2018-09-13 01:21:16    32000-1"
      ]
     },
     "execution_count": 8,
     "metadata": {},
     "output_type": "execute_result"
    }
   ],
   "source": [
    "df.head()"
   ]
  },
  {
   "cell_type": "code",
   "execution_count": 32,
   "metadata": {},
   "outputs": [],
   "source": [
    "# the series of interest\n",
    "series_of_interest = df[\"interval\"]\n",
    "# # of bins\n",
    "bins_to_use = 100"
   ]
  },
  {
   "cell_type": "code",
   "execution_count": 33,
   "metadata": {},
   "outputs": [
    {
     "data": {
      "image/png": "[encoded data removed]",
      "text/plain": [
       "<Figure size 1296x432 with 1 Axes>"
      ]
     },
     "metadata": {},
     "output_type": "display_data"
    }
   ],
   "source": [
    "# graph the distribution of intervals\n",
    "sns.set_style('ticks')\n",
    "fig, ax = plt.subplots()\n",
    "fig.set_size_inches(18, 6)\n",
    "rugkws={\"height\": .025, \"color\": \"999999\"}\n",
    "histkws={\"linewidth\": 2, \"alpha\": 1, \"color\": \"b\"}\n",
    "p = sns.distplot(series_of_interest, bins=bins_to_use, rug=True, rug_kws=rugkws, hist_kws=histkws, kde=False).patches"
   ]
  },
  {
   "cell_type": "code",
   "execution_count": 34,
   "metadata": {},
   "outputs": [
    {
     "name": "stdout",
     "output_type": "stream",
     "text": [
      "3735.0\n"
     ]
    }
   ],
   "source": [
    "# get the heights of the bins\n",
    "heights = [item.get_height() for item in p]\n",
    "# the highest\n",
    "print(max(heights))"
   ]
  },
  {
   "cell_type": "code",
   "execution_count": 35,
   "metadata": {},
   "outputs": [
    {
     "name": "stdout",
     "output_type": "stream",
     "text": [
      "0\n"
     ]
    }
   ],
   "source": [
    "# and here is the bucket index of the max of that list\n",
    "most_populous_bucket = np.argmax(heights)\n",
    "print(most_populous_bucket)"
   ]
  },
  {
   "cell_type": "code",
   "execution_count": 36,
   "metadata": {},
   "outputs": [
    {
     "name": "stderr",
     "output_type": "stream",
     "text": [
      "/anaconda3/lib/python3.7/site-packages/scipy/stats/_binned_statistic.py:607: FutureWarning: Using a non-tuple sequence for multidimensional indexing is deprecated; use `arr[tuple(seq)]` instead of `arr[seq]`. In the future this will be interpreted as an array index, `arr[np.array(seq)]`, which will result either in an error or a different result.\n",
      "  result = result[core]\n"
     ]
    }
   ],
   "source": [
    "# get the stats using the same bucketing parameters\n",
    "bin_maxes, bin_edges, binnumber = stats.binned_statistic(series_of_interest, series_of_interest, statistic=max, bins=bins_to_use)"
   ]
  },
  {
   "cell_type": "code",
   "execution_count": 37,
   "metadata": {},
   "outputs": [
    {
     "data": {
      "text/plain": [
       "217.0"
      ]
     },
     "execution_count": 37,
     "metadata": {},
     "output_type": "execute_result"
    }
   ],
   "source": [
    "# and here is the max of the binned values from the bin with the most members\n",
    "# remember, the 'statistic' called for was 'max' (not mean)\n",
    "bin_maxes[most_populous_bucket]"
   ]
  },
  {
   "cell_type": "code",
   "execution_count": 38,
   "metadata": {},
   "outputs": [
    {
     "data": {
      "text/plain": [
       "217.38"
      ]
     },
     "execution_count": 38,
     "metadata": {},
     "output_type": "execute_result"
    }
   ],
   "source": [
    "# and here is the right bin-edge from that same bin\n",
    "bin_edges[most_populous_bucket+1]"
   ]
  },
  {
   "cell_type": "code",
   "execution_count": null,
   "metadata": {},
   "outputs": [],
   "source": []
  }
 ],
 "metadata": {
  "kernelspec": {
   "display_name": "Python 3",
   "language": "python",
   "name": "python3"
  },
  "language_info": {
   "codemirror_mode": {
    "name": "ipython",
    "version": 3
   },
   "file_extension": ".py",
   "mimetype": "text/x-python",
   "name": "python",
   "nbconvert_exporter": "python",
   "pygments_lexer": "ipython3",
   "version": "3.7.1"
  }
 },
 "nbformat": 4,
 "nbformat_minor": 2
}
